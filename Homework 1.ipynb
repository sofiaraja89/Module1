{
 "cells": [
  {
   "cell_type": "code",
   "execution_count": 1,
   "id": "61617b5a",
   "metadata": {},
   "outputs": [
    {
     "name": "stdout",
     "output_type": "stream",
     "text": [
      "Enter your first name : sofia\n",
      "Enter your last name :  raja\n",
      "raja sofia\n"
     ]
    }
   ],
   "source": [
    "#Problem #1: 1.\tAccept the user's first and last name and print them in reverse order with a space between them\n",
    "\n",
    "# First name entered, and using \"input\" lets the system know that the user needs to enter a value\n",
    "first_name = input(\"Enter your first name : \"  ) \n",
    "\n",
    "#Last name entered, and using \"input\" lets the system know that the user needs to enter a value\n",
    "last_name = input(\"Enter your last name :  \") \n",
    "\n",
    "# Print out last name and first name with a space \n",
    "print (last_name  + \" \" + first_name)\n"
   ]
  },
  {
   "cell_type": "code",
   "execution_count": 2,
   "id": "7716e4a7",
   "metadata": {},
   "outputs": [
    {
     "name": "stdout",
     "output_type": "stream",
     "text": [
      "Enter a number:2\n",
      "246\n"
     ]
    }
   ],
   "source": [
    "#Problem #2 \n",
    "#Accept an integer for \"n\" from the user and then compute the value of \"n+nn+nnn\"\n",
    "\n",
    "#number is entered by user, \"number\" is the name given to the input statmenet, and input is to let python know that the user needs to enter a value\n",
    "number=int(input(\"Enter a number:\")) \n",
    "\n",
    "#need to convert the value entered for \"n\" to a string in order to create a concatenation, so all \"n\" values calcualte correctly \n",
    "temp_num=str(number) \n",
    "\n",
    "#add the string value of \"nn\" (twice), stored inside temp_num \n",
    "temp_num1=temp_num+temp_num \n",
    "\n",
    "# add the string value of \"nnn\" (three times), stored insisde temp_num2\n",
    "temp_num_2=temp_num+temp_num+temp_num \n",
    "\n",
    "#perfom the calcualtion for \"n+nn+nnn\"\n",
    "#number = n \n",
    "#temp_num = nn, gets converted back to integar using int(temp_num)\n",
    "#temp_num 2 = nnn, gets converted back to integar using int(temp_num2)\n",
    "calculation= number+int(temp_num1)+int(temp_num_2)\n",
    "\n",
    "#Print out the calculation \n",
    "print (calculation)\n",
    "\n"
   ]
  },
  {
   "cell_type": "code",
   "execution_count": 3,
   "id": "3ec95685",
   "metadata": {},
   "outputs": [
    {
     "name": "stdout",
     "output_type": "stream",
     "text": [
      "What country are you from? pakistan\n",
      "I have heard that pakistan is a beautiful country\n"
     ]
    }
   ],
   "source": [
    "#Problem #3\n",
    "#Ask the user \"What country are you from?\" then print the following statement: \"I have heard that [input] is a beautiful country!\"\n",
    "\n",
    "#Ask user to enter(input) a \"country\" to answer the question\n",
    "country= input(\"What country are you from? \")\n",
    "\n",
    "#Print the name of the \"country\" the user entered, along with statement saying what was heard about the \"country\" entered\n",
    "print(\"I have heard that\" + \" \"+ country+ \" \" + \"is a beautiful country\")\n"
   ]
  },
  {
   "cell_type": "code",
   "execution_count": 4,
   "id": "e1c6bf41",
   "metadata": {},
   "outputs": [],
   "source": [
    "#Problem #4\n",
    "#What is the output of the following Python code\n",
    "\n",
    "#values for \"x\" and \"y\"\n",
    "x=10\n",
    "y=50 \n",
    "\n",
    "#If the value of \"x\" to the 2nd power(exponent) is greater than 100 and the value for \"y\" is less than 100\n",
    "if (x ** 2 > 100 and y < 100):\n",
    "    #Print the value of \"x\" and \"y\"\n",
    "    print(x, y) \n",
    "#Nothing printed because the value of \"x\" to the 2nd power equals 100, not greater than 100\n",
    "#In order for the value for both \"x\" and \"y\" to print both statements in the \"if\" method needs to be true(correct)\n"
   ]
  },
  {
   "cell_type": "code",
   "execution_count": 5,
   "id": "8697b238",
   "metadata": {},
   "outputs": [
    {
     "name": "stdout",
     "output_type": "stream",
     "text": [
      "[10, 20, 30, 40]\n",
      "[10, 20, 30, 40]\n"
     ]
    }
   ],
   "source": [
    "#Problem #5\n",
    "#What is the output of the following addition (+) operator, and why does this code chunk execute this way?\n",
    "\n",
    "#values for \"a\"\n",
    "a = [10, 20]\n",
    "\n",
    "#\"b\" equals to whatever the total value of \"a\" is\n",
    "b = a\n",
    "#\"bt=\", changes both \"a\" and \"b\"\n",
    "b += [30, 40]\n",
    "#print values of \"a\"\n",
    "print(a)\n",
    "#print values of \"b\"\n",
    "print(b)\n",
    "\n",
    "#It executes this way becasue when the additon of \"+=\" is used, it changes both \"a\" and \"b\"\n",
    "#And both \"a\" and \"b\" are refering to the same object(answer) \n",
    "\n"
   ]
  },
  {
   "cell_type": "code",
   "execution_count": null,
   "id": "a76b158f",
   "metadata": {},
   "outputs": [],
   "source": [
    "#Problem #6 \n",
    "#What is the output of the following code and what arithmetic operators is being used here? \n",
    "\n",
    "#Print the answer for \"2\" divided by \"6\"\n",
    "print(2%6) \n",
    "\n",
    "#Divison is being used. Since \"6\" is greater than \"2\", \"2\" becomes the remainder and therefore the answer is \"2\"\n"
   ]
  },
  {
   "cell_type": "code",
   "execution_count": 6,
   "id": "e0c72b95",
   "metadata": {},
   "outputs": [
    {
     "name": "stdout",
     "output_type": "stream",
     "text": [
      "216\n"
     ]
    }
   ],
   "source": [
    "#Probelm #7\n",
    "#What is the output of the following code and what arithmetic operators are used here? \n",
    "\n",
    "#Print the answer for \"2\" times the exponent of \"3x3x3 =27\" times 4)\n",
    "print(2 * 3 ** 3 * 4)\n",
    "\n",
    "#Exponent and multipulication are being used\n"
   ]
  },
  {
   "cell_type": "code",
   "execution_count": null,
   "id": "db0cadd7",
   "metadata": {},
   "outputs": [],
   "source": [
    "#Problem #8 \n",
    "#What is a text editor?\n",
    "# A text editor os a program that where the user is allowed to enter code, edit/change code, save/store and print code\n"
   ]
  },
  {
   "cell_type": "code",
   "execution_count": null,
   "id": "97ddfc4d",
   "metadata": {},
   "outputs": [],
   "source": [
    "#Probelm #9\n",
    "#What is python?\n",
    "# Python is a computer programming language, and right now the number one programming language being used. It can be used to build websites\n",
    "#build software, conduct data analysis etc...\n"
   ]
  },
  {
   "cell_type": "code",
   "execution_count": null,
   "id": "72710d1f",
   "metadata": {},
   "outputs": [],
   "source": [
    "#Problem #10 \n",
    "#What is jupyter notebook, what type of python environment is it, and what alternatives are there to jupyter notebook?\n",
    "#Jupter notebook is an app on the web that can be used for coding, creaing notebooks, visuals and data\n",
    "#Jupter notebook is an interactive development environment\n",
    "#Some alternatives for jupter notebook are:\n",
    "#Visual Studio Code\n",
    "#nteract\n",
    "#Jupyterlite  \n",
    "#Google Colab\n",
    "#PyCharm \n",
    "#Apache Zeppelin\n",
    "#RStudio\n",
    "#Rodeo IDE \n",
    "\n"
   ]
  }
 ],
 "metadata": {
  "kernelspec": {
   "display_name": "Python 3 (ipykernel)",
   "language": "python",
   "name": "python3"
  },
  "language_info": {
   "codemirror_mode": {
    "name": "ipython",
    "version": 3
   },
   "file_extension": ".py",
   "mimetype": "text/x-python",
   "name": "python",
   "nbconvert_exporter": "python",
   "pygments_lexer": "ipython3",
   "version": "3.9.12"
  }
 },
 "nbformat": 4,
 "nbformat_minor": 5
}
